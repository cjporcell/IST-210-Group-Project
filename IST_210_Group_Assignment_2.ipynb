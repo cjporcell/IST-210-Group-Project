{
  "nbformat": 4,
  "nbformat_minor": 0,
  "metadata": {
    "colab": {
      "name": "IST 210 Group Assignment 2",
      "provenance": [],
      "collapsed_sections": [],
      "include_colab_link": true
    },
    "kernelspec": {
      "name": "python3",
      "display_name": "Python 3"
    }
  },
  "cells": [
    {
      "cell_type": "markdown",
      "metadata": {
        "id": "view-in-github",
        "colab_type": "text"
      },
      "source": [
        "<a href=\"https://colab.research.google.com/github/cjporcell/IST-210-Group-Project/blob/master/IST_210_Group_Assignment_2.ipynb\" target=\"_parent\"><img src=\"https://colab.research.google.com/assets/colab-badge.svg\" alt=\"Open In Colab\"/></a>"
      ]
    },
    {
      "cell_type": "markdown",
      "metadata": {
        "id": "UblhAIGuGF27"
      },
      "source": [
        "# IST 210 Group Project"
      ]
    },
    {
      "cell_type": "markdown",
      "metadata": {
        "id": "RlR0_Ol4GW3b"
      },
      "source": [
        "### what is your idea?"
      ]
    },
    {
      "cell_type": "markdown",
      "metadata": {
        "id": "HU68Zv5MGY97"
      },
      "source": [
        "A cleaning service targeted for college students in State College , PA. The service would be quick and cheap to accomodate for the target customers. We would present to the customer a list of tasks that our available with our service. The more tasks a customer adds, the more money the total service will cost. \n",
        "\n",
        "\n",
        "\n"
      ]
    },
    {
      "cell_type": "markdown",
      "metadata": {
        "id": "45Q0PBrIGiIg"
      },
      "source": [
        "### what makes it unique?"
      ]
    },
    {
      "cell_type": "markdown",
      "metadata": {
        "id": "8WOfTAuqGjoc"
      },
      "source": [
        "Our service can be provided for anyone in the State College area, but our niche is college students. Essentially our service would both target and and be operated by college students. We also complete whatever tasks the customers check off when ordering our service. These tasks include laundry, dishes, areas to clean, etc. "
      ]
    },
    {
      "cell_type": "markdown",
      "metadata": {
        "id": "dVrktWdXGl19"
      },
      "source": [
        "### is this a brand-new product or business, or are you borrowing from another business?"
      ]
    },
    {
      "cell_type": "markdown",
      "metadata": {
        "id": "MmGY0leUGnaN"
      },
      "source": [
        "Cleaning services in general certainly aren't new but ours is not based on any service specifically."
      ]
    },
    {
      "cell_type": "markdown",
      "metadata": {
        "id": "k3oJzVDPGnws"
      },
      "source": [
        "### describe a typical business interaction or a day at your business."
      ]
    },
    {
      "cell_type": "markdown",
      "metadata": {
        "id": "GeEKl-lUG1x5"
      },
      "source": [
        "We show up at the customers house and start cleaning based on what services were requested. We provide a comprehensisve selection of cleaning options including laundry, mopping, dishes, sweeping, dusting and more."
      ]
    },
    {
      "cell_type": "markdown",
      "metadata": {
        "id": "iUFoC5BuGpID"
      },
      "source": [
        "### list your 5 entities/tables and for each, provide details about what data will be stored in the entities/tables."
      ]
    },
    {
      "cell_type": "markdown",
      "metadata": {
        "id": "AiZXrfSMGqZm"
      },
      "source": [
        "1. Customer's location\n",
        "\n",
        "-- One entity would be the customers house/apartment location\n",
        "\n",
        "2. Company Information \n",
        "-- One entity will be all of the information needed to contact our company and order the service we provide.\n",
        "3. Tasks \n",
        "\n",
        "-- The customer will fill out a list of what tasks must be done when cleaning their house.\n",
        "\n",
        "4. Contact information\n",
        "\n",
        "-- We must know the contact information of our client\n",
        "\n",
        "5. Payment\n",
        "\n",
        "--We will accept all types of payment from cash to credit/debit, to services such as Venmo, Paypal, Cashapp, etc."
      ]
    },
    {
      "cell_type": "markdown",
      "metadata": {
        "id": "h2mJWTewHLSn"
      },
      "source": [
        "Draw IO Entity Relationship Diagram \n",
        "\n",
        "- save your ER Diagram in Draw.io as PNG and upload it to GitHub\n",
        "\n",
        "  - then add an image to your notebook\n",
        "\n",
        "  ![ER_Diagram_IST210](https://raw.githubusercontent.com/cjporcell/IST-210-Group-Project/master/images/ER_Diagram_IST210.PNG)"
      ]
    },
    {
      "cell_type": "markdown",
      "metadata": {
        "id": "WFQXwieoHiCe"
      },
      "source": [
        "### provide a goal for your project "
      ]
    },
    {
      "cell_type": "markdown",
      "metadata": {
        "id": "cKmoiVHrHnHF"
      },
      "source": [
        "Our goal for this project is to find what could make our business idea a possibility. For this we must gather all the data we can possibly find that correlates with a student cleaning service. "
      ]
    }
  ]
}