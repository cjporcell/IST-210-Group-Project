{
  "nbformat": 4,
  "nbformat_minor": 0,
  "metadata": {
    "colab": {
      "name": "IST 210 Group Assignment 2.ipynb",
      "provenance": [],
      "authorship_tag": "ABX9TyPAc9zQ/NMmmtLYVwfR0XeU",
      "include_colab_link": true
    },
    "kernelspec": {
      "name": "python3",
      "display_name": "Python 3"
    }
  },
  "cells": [
    {
      "cell_type": "markdown",
      "metadata": {
        "id": "view-in-github",
        "colab_type": "text"
      },
      "source": [
        "<a href=\"https://colab.research.google.com/github/cjporcell/IST-210-Group-Project/blob/master/IST_210_Group_Assignment_2.ipynb\" target=\"_parent\"><img src=\"https://colab.research.google.com/assets/colab-badge.svg\" alt=\"Open In Colab\"/></a>"
      ]
    },
    {
      "cell_type": "markdown",
      "metadata": {
        "id": "0E6wSEvEJAL8"
      },
      "source": [
        "Connor, Thomas, Richard\n",
        "\n",
        "\n",
        "IST 210 Group Assignment 2\n",
        "\n",
        "\n",
        "ER Diagram\n",
        "\n",
        "Here is our ER Diagram for our college pad cleaning buisness:\n",
        "\n",
        "\n",
        "\n",
        "![IST 210 ER Diagram FINAL](https://raw.githubusercontent.com/cjporcell/IST-210-Group-Project/master/images/IST%20210%20ER%20Diagram%20FINAL.PNG)\n",
        "\n",
        "\n",
        "\n",
        "\n",
        "\n"
      ]
    },
    {
      "cell_type": "markdown",
      "metadata": {
        "id": "4xbyQq_hNSMw"
      },
      "source": [
        "\n",
        "  To refresh your brain, our company provides a cleaning service that caters to college students that are too busy to clean their apartnemnt or house. So for our first table we have our customer's \"contact information\". Our primary key is the customers phone number because each person has a unique number. We then put email address aswell for an attrubute along with our customers name which is the foreign key since it is quite mandatory. Payment information is connected to the customer's \"payment information\". In the \"payment information\" the primary key is the customer's credit card information because it is a unique piece of information per individual customer. Then for the other attributes in this table we have just the other payment methods such as paypal, cash, venmo, etc. Connected aswell to the \"contact information\" is the \"location\" table. The primary key for this table is the customer's address since it is unique per individual customer. The other attributes are house type, university, town, and the customer name which is the foreign key. So location connects to \"tasks\" because once we have the customer's contact information, payment information, and location, we can set a time to send employees to clean. The primary key for the \"tasks\" table is the employee that comes to provide the service because each employee is different and the pther attributes are the other tasks that you may assign the employee to complete. The last table is the \"company information\" table which includes a few attributes, all contact information for the company. The primary key of course for this table is our company's phone number since it is unique. "
      ]
    }
  ]
}